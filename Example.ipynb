{
 "cells": [
  {
   "cell_type": "code",
   "execution_count": 1,
   "metadata": {},
   "outputs": [],
   "source": [
    "# Import manager\n",
    "import manager\n",
    "\n",
    "# Initialize Manager\n",
    "VBallManager = manager.VBallManager()"
   ]
  },
  {
   "cell_type": "code",
   "execution_count": 20,
   "metadata": {},
   "outputs": [],
   "source": [
    "# Reimport manager (if you make edits and don't want to reset kernel)\n",
    "import importlib\n",
    "importlib.reload(manager)\n",
    "\n",
    "# Reinitialize Manager\n",
    "VBallManager = manager.VBallManager()"
   ]
  },
  {
   "cell_type": "code",
   "execution_count": null,
   "metadata": {},
   "outputs": [],
   "source": [
    "# Setup matplotlib display type (jupyter notebook specific)\n",
    "%matplotlib inline\n",
    "\n",
    "# Specify video & video's start frame to use\n",
    "vid = \"In/iPad Vid.mov\"\n",
    "StartFrame = 120\n",
    "\n",
    "# Initialize manager\n",
    "VBallManager.ProcessVideo(vid, StartFrame, length=9000, VidStorageFile='BallOut1.mp4')"
   ]
  }
 ],
 "metadata": {
  "kernelspec": {
   "display_name": "Python 3",
   "language": "python",
   "name": "python3"
  },
  "language_info": {
   "codemirror_mode": {
    "name": "ipython",
    "version": 3
   },
   "file_extension": ".py",
   "mimetype": "text/x-python",
   "name": "python",
   "nbconvert_exporter": "python",
   "pygments_lexer": "ipython3",
   "version": "3.11.1"
  }
 },
 "nbformat": 4,
 "nbformat_minor": 2
}
